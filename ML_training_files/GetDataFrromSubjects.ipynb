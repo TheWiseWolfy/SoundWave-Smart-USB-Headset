{
 "cells": [
  {
   "cell_type": "code",
   "execution_count": 1,
   "metadata": {},
   "outputs": [],
   "source": [
    "import sounddevice as sd\n",
    "import matplotlib.pyplot as plt\n",
    "import numpy as np\n",
    "import json\n",
    "from ctypes import cast, POINTER\n",
    "from comtypes import CLSCTX_ALL\n",
    "from pycaw.pycaw import AudioUtilities, IAudioEndpointVolume\n",
    "from scipy.interpolate import interp1d"
   ]
  },
  {
   "cell_type": "code",
   "execution_count": 2,
   "metadata": {},
   "outputs": [
    {
     "name": "stdout",
     "output_type": "stream",
     "text": [
      "volume.GetVolumeRange(): (-65.25, 0.0, 0.03125)\n"
     ]
    }
   ],
   "source": [
    "data_path = '.\\\\outside_data\\\\'\n",
    "rec_file = 'rec_file.txt'\n",
    "\n",
    "fs = 44100 // 2\n",
    "duration = 1 \n",
    "devices = AudioUtilities.GetSpeakers()\n",
    "interface = devices.Activate(IAudioEndpointVolume._iid_, CLSCTX_ALL, None)\n",
    "volume = cast(interface, POINTER(IAudioEndpointVolume))\n",
    "print(\"volume.GetVolumeRange(): (%s, %s, %s)\" % volume.GetVolumeRange())\n",
    "\n",
    "start_range, stop_range, step = volume.GetVolumeRange()\n",
    "psoc_start = 48 # la psoc e mai mare rangeul dar poate merge asa\n",
    "psoc_stop = 127\n",
    "map_to_range = interp1d([start_range, stop_range],[psoc_start,psoc_stop]) # mapping from device range to psoc range"
   ]
  },
  {
   "cell_type": "code",
   "execution_count": 3,
   "metadata": {},
   "outputs": [
    {
     "name": "stdout",
     "output_type": "stream",
     "text": [
      "please adjust volume!\n",
      "-25.147287368774414 -30.77667808532715\n",
      "-25.147287368774414 -30.77667808532715\n",
      "please adjust volume!\n",
      "-30.77667808532715 -14.372318267822266\n",
      "-30.77667808532715 -14.372318267822266\n",
      "please adjust volume!\n",
      "-16.000192642211914 -26.80240821838379\n"
     ]
    }
   ],
   "source": [
    "curr_db = 0\n",
    "id_sound = 0\n",
    "id_data = 0\n",
    "usr_input = ''\n",
    "f = open(rec_file, 'w')\n",
    "\n",
    "# should delete old outside_data\n",
    "\n",
    "while usr_input != 'stop':\n",
    "    usr_input = input('Is the volume good?[y \\ n][type \\'stop\\' to exit]')\n",
    "    if usr_input == 'y':\n",
    "        pref_volume = volume.GetMasterVolumeLevel()\n",
    "        # get decibels/volume and data from mic and save current\n",
    "        # for intre current si pref - oleaca petru mai multe date\n",
    "        print(curr_db, pref_volume)\n",
    "        #for curr_db_iterator in range(curr_db, pref_volume):\n",
    "        str_to_save = '{' + f'\\\"id\\\": {id_data}, \\\"current_vol\\\": {map_to_range(curr_db)}, \\\"outside_sound\\\": \\\"sound_{id_sound - 1}.npy\\\", \\\"pref_vol\\\": {map_to_range(pref_volume)}' + '}'\n",
    "        f.write(str_to_save + '\\n')\n",
    "        id_data += 1\n",
    "    elif usr_input == 'n':\n",
    "        curr_db = volume.GetMasterVolumeLevel()\n",
    "        # toti db/volume intre current si preffered poti fi pusi pentru a augmenta datele(mai sus)\n",
    "        # rec sound from mic and save name and np file in outside_data\n",
    "        data = sd.rec(duration * fs, samplerate=fs, channels=1)\n",
    "        sd.wait()\n",
    "        fn = f'sound_{id_sound}'\n",
    "        id_sound += 1\n",
    "        np.save(data_path + str(fn), data)\n",
    "        print('please adjust volume!')\n",
    "f.close()"
   ]
  },
  {
   "cell_type": "markdown",
   "metadata": {},
   "source": [
    "# Data Engineering time\n",
    "\n",
    "Get data from unwilling subjects and then I can:\n",
    "- from curr_db to lowest volume are all gonna have the same pref_volume with the same background noise\n",
    "- add slight noise to background noise\n",
    "- displace pref_volume and background noise with same amount of db somehow maybe idk"
   ]
  },
  {
   "cell_type": "code",
   "execution_count": 4,
   "metadata": {},
   "outputs": [
    {
     "name": "stdout",
     "output_type": "stream",
     "text": [
      "[{'id': 0, 'current_vol': 96.55347582937657, 'outside_sound': 'sound_0.npy', 'pref_vol': 89.73781503845449}, {'id': 1, 'current_vol': 96.55347582937657, 'outside_sound': 'sound_0.npy', 'pref_vol': 89.73781503845449}, {'id': 2, 'current_vol': 89.73781503845449, 'outside_sound': 'sound_1.npy', 'pref_vol': 109.59903228876692}, {'id': 3, 'current_vol': 89.73781503845449, 'outside_sound': 'sound_1.npy', 'pref_vol': 109.59903228876692}, {'id': 4, 'current_vol': 107.62811925310741, 'outside_sound': 'sound_2.npy', 'pref_vol': 94.54957472410238}]\n"
     ]
    }
   ],
   "source": [
    "# reading data\n",
    "data_path = '.\\\\outside_data\\\\'\n",
    "rec_file = 'rec_file.txt'\n",
    "data_array = []\n",
    "with open(rec_file, 'r') as f:\n",
    "    lines = f.readlines()\n",
    "    for line in lines:\n",
    "        obj = json.loads(line)\n",
    "        data_array.append(obj)\n",
    "\n",
    "print(data_array)"
   ]
  },
  {
   "cell_type": "code",
   "execution_count": 5,
   "metadata": {},
   "outputs": [
    {
     "name": "stdout",
     "output_type": "stream",
     "text": [
      "{'id': 0, 'current_vol': 96.55347582937657, 'outside_sound': 'sound_0.npy', 'pref_vol': 89.73781503845449} 96.55347582937657\n",
      "{'id': 1, 'current_vol': 96.55347582937657, 'outside_sound': 'sound_0.npy', 'pref_vol': 89.73781503845449} 96.55347582937657\n",
      "{'id': 2, 'current_vol': 89.73781503845449, 'outside_sound': 'sound_1.npy', 'pref_vol': 109.59903228876692} 89.73781503845449\n",
      "{'id': 3, 'current_vol': 89.73781503845449, 'outside_sound': 'sound_1.npy', 'pref_vol': 109.59903228876692} 89.73781503845449\n",
      "{'id': 4, 'current_vol': 107.62811925310741, 'outside_sound': 'sound_2.npy', 'pref_vol': 94.54957472410238} 107.62811925310741\n"
     ]
    }
   ],
   "source": [
    "aug_data = []\n",
    "last_id = data_array[-1]['id']\n",
    "# same preference for all dBs until curr_db\n",
    "for data_obj in data_array:\n",
    "    curr_db = data_obj['current_vol']\n",
    "    print(data_obj, curr_db)\n",
    "    while curr_db > psoc_start:\n",
    "         curr_db -= 0.1\n",
    "         data_new = {}\n",
    "         data_new['id'] = last_id + 1\n",
    "         data_new['current_vol'] = curr_db\n",
    "         data_new['outside_sound'] = data_obj['outside_sound']\n",
    "         data_new['pref_vol'] = data_obj['pref_vol']\n",
    "         last_id += 1\n",
    "         aug_data.append(data_new)\n",
    "\n",
    "#print(data_array)\n",
    "#print()\n",
    "#print(aug_data)"
   ]
  },
  {
   "cell_type": "code",
   "execution_count": 6,
   "metadata": {},
   "outputs": [
    {
     "name": "stdout",
     "output_type": "stream",
     "text": [
      "2\n"
     ]
    }
   ],
   "source": [
    "last_sound_id = int(data_array[-1]['outside_sound'].replace('sound_','').replace('.npy',''))\n",
    "print(last_sound_id)\n",
    "\n",
    "#more_aug_data = []\n",
    "\n",
    "for data_obj in aug_data[0:10]:\n",
    "    if np.random.randint(0,2) == 0:\n",
    "        # add noise\n",
    "        sound_data = np.load(data_path + data_obj['outside_sound'])\n",
    "        noise = np.random.randn(sound_data.shape[0],sound_data.shape[1])\n",
    "        map_to_small_range = interp1d([np.min(noise), np.max(noise)],[np.min(sound_data[np.nonzero(sound_data)]) / 6,np.max(sound_data[np.nonzero(sound_data)]) / 6])\n",
    "        noise = [map_to_small_range(x) for x in noise]\n",
    "        #sd.play(np.add(sound_data, noise))\n",
    "        #sd.wait()\n",
    "        last_sound_id = last_sound_id + 1\n",
    "        np.save(data_path + f'sound_{last_sound_id}.npy', np.add(sound_data, noise))\n",
    "        data_obj['outside_sound'] = f'sound_{last_sound_id}.npy'\n",
    "\n",
    "with open('rec_file.txt', 'a') as f:\n",
    "    for data_a in aug_data:\n",
    "        str_to_save = '{' + f'\\\"id\\\": ' + str(data_a['id']) + ', \\\"current_vol\\\": '  + str(data_a['current_vol']) + ', \\\"outside_sound\\\": \\\"' + str(data_a['outside_sound']) +  '\\\", \\\"pref_vol\\\": ' + str(data_a['pref_vol']) +  '}'\n",
    "        f.write(str_to_save + '\\n')"
   ]
  }
 ],
 "metadata": {
  "interpreter": {
   "hash": "7e57d4832a86c7601b9283239964f78c87068a195ed6e4a38affb92ebf0db3e2"
  },
  "kernelspec": {
   "display_name": "Python 3.7.13 ('env_volume_ai')",
   "language": "python",
   "name": "python3"
  },
  "language_info": {
   "codemirror_mode": {
    "name": "ipython",
    "version": 3
   },
   "file_extension": ".py",
   "mimetype": "text/x-python",
   "name": "python",
   "nbconvert_exporter": "python",
   "pygments_lexer": "ipython3",
   "version": "3.7.13"
  },
  "orig_nbformat": 4
 },
 "nbformat": 4,
 "nbformat_minor": 2
}
